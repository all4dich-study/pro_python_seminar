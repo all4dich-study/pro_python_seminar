{
 "cells": [
  {
   "cell_type": "markdown",
   "metadata": {},
   "source": [
    "# General Concept"
   ]
  },
  {
   "cell_type": "markdown",
   "metadata": {},
   "source": [
    "## Iteration"
   ]
  },
  {
   "cell_type": "markdown",
   "metadata": {},
   "source": [
    "### Two types sequences"
   ]
  },
  {
   "cell_type": "markdown",
   "metadata": {},
   "source": [
    "* **Codes that use the sequence as a whole**"
   ]
  },
  {
   "cell_type": "code",
   "execution_count": 1,
   "metadata": {
    "collapsed": false
   },
   "outputs": [
    {
     "name": "stdout",
     "output_type": "stream",
     "text": [
      "('S', ' ', 0)\n",
      "('m', ' ', 1)\n",
      "('i', ' ', 2)\n",
      "('t', ' ', 3)\n",
      "('h', ' ', 4)\n"
     ]
    }
   ],
   "source": [
    "lastName=\"Smith\"\n",
    "\n",
    "count=0\n",
    "for letter in lastName:\n",
    "    print(letter,\" \",count)\n",
    "    count+=1"
   ]
  },
  {
   "cell_type": "markdown",
   "metadata": {},
   "source": [
    "* **Codes that just need the item within it**"
   ]
  },
  {
   "cell_type": "code",
   "execution_count": 1,
   "metadata": {
    "collapsed": false
   },
   "outputs": [
    {
     "name": "stdout",
     "output_type": "stream",
     "text": [
      "('S', ' ', 0)\n",
      "('m', ' ', 1)\n",
      "('i', ' ', 2)\n",
      "('t', ' ', 3)\n",
      "('h', ' ', 4)\n"
     ]
    }
   ],
   "source": [
    "lastName=\"Smith\"\n",
    "\n",
    "count=0\n",
    "while (count<5):\n",
    "    print(lastName[count],\" \",count)\n",
    "    count+=1"
   ]
  },
  {
   "cell_type": "code",
   "execution_count": 9,
   "metadata": {
    "collapsed": false
   },
   "outputs": [
    {
     "name": "stdout",
     "output_type": "stream",
     "text": [
      "8\n"
     ]
    }
   ],
   "source": [
    "a,b = 1,1\n",
    "i=0\n",
    "while(i<6-1):\n",
    "    a,b = b,a+b\n",
    "    i+=1\n",
    "print(a)"
   ]
  },
  {
   "cell_type": "markdown",
   "metadata": {},
   "source": [
    "* Keep it!\n",
    "  * you may not actually need to work with the entire sequence as a whole\n",
    "  * Not all sequences need to be loaded in their entirety in advance"
   ]
  },
  {
   "cell_type": "markdown",
   "metadata": {},
   "source": [
    "## Caching"
   ]
  },
  {
   "cell_type": "markdown",
   "metadata": {
    "collapsed": true
   },
   "source": [
    "**Definition**\n",
    "> Storing data in a way that doesn't impact a public-facing interface"
   ]
  },
  {
   "cell_type": "code",
   "execution_count": 14,
   "metadata": {
    "collapsed": false
   },
   "outputs": [
    {
     "data": {
      "text/plain": [
       "True"
      ]
     },
     "execution_count": 14,
     "metadata": {},
     "output_type": "execute_result"
    }
   ],
   "source": [
    "import webbrowser\n",
    "webbrowser.open_new('http://www.python.org/')\n",
    "#more info at:  https://docs.python.org/3.4/library/webbrowser.html"
   ]
  },
  {
   "cell_type": "markdown",
   "metadata": {},
   "source": [
    "**Some rules for Caching**\n",
    "* A cache should be looked at as a time-saving utility that doesn't explicitly need to exist in order for a feature to work properly\n",
    "* Code must always accept enough information to generate a valid result without the use of the cache.\n",
    "* Careful about ensuring that the cache is up-to-date as your needs demand\n",
    "* Cache a value indefinitely but update it immediately when the value is updated"
   ]
  },
  {
   "cell_type": "markdown",
   "metadata": {},
   "source": [
    "## Transparency"
   ]
  },
  {
   "cell_type": "markdown",
   "metadata": {},
   "source": [
    "**Definition**\n",
    "> The ability of your code to see nearly everything that the computer has access to"
   ]
  },
  {
   "cell_type": "markdown",
   "metadata": {},
   "source": [
    "Transparent access in Python\n",
    "* Python doesn't support the notion of private variables\n",
    "* Allow to inspect a wide range of aspects of objects and the code"
   ]
  },
  {
   "cell_type": "markdown",
   "metadata": {},
   "source": [
    "Information available at runtime => **Introspection**\n",
    "* Attributes on an object\n",
    "* The names of attributes available on an object\n",
    "* The type of an object\n",
    "* The module where a class or function was defined\n",
    "* The filename where a module was loaded\n",
    "* The bytecode for a given function"
   ]
  },
  {
   "cell_type": "markdown",
   "metadata": {},
   "source": [
    "# Control Flow"
   ]
  },
  {
   "cell_type": "markdown",
   "metadata": {},
   "source": [
    "## Catching Exceptions"
   ]
  }
 ],
 "metadata": {
  "kernelspec": {
   "display_name": "Python 2",
   "language": "python",
   "name": "python2"
  },
  "language_info": {
   "codemirror_mode": {
    "name": "ipython",
    "version": 2
   },
   "file_extension": ".py",
   "mimetype": "text/x-python",
   "name": "python",
   "nbconvert_exporter": "python",
   "pygments_lexer": "ipython2",
   "version": "2.7.10"
  }
 },
 "nbformat": 4,
 "nbformat_minor": 0
}
