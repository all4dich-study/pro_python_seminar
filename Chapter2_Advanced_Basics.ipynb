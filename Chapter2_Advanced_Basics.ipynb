{
 "cells": [
  {
   "cell_type": "markdown",
   "metadata": {},
   "source": [
    "# General Concept"
   ]
  },
  {
   "cell_type": "markdown",
   "metadata": {},
   "source": [
    "## Iteration"
   ]
  },
  {
   "cell_type": "markdown",
   "metadata": {},
   "source": [
    "### Two types sequences"
   ]
  },
  {
   "cell_type": "markdown",
   "metadata": {},
   "source": [
    "* **Codes that use the sequence as a whole**"
   ]
  },
  {
   "cell_type": "code",
   "execution_count": 1,
   "metadata": {
    "collapsed": false
   },
   "outputs": [
    {
     "name": "stdout",
     "output_type": "stream",
     "text": [
      "S   0\n",
      "m   1\n",
      "i   2\n",
      "t   3\n",
      "h   4\n"
     ]
    }
   ],
   "source": [
    "lastName=\"Smith\"\n",
    "\n",
    "count=0\n",
    "for letter in lastName:\n",
    "    print(letter,\" \",count)\n",
    "    count+=1"
   ]
  },
  {
   "cell_type": "markdown",
   "metadata": {},
   "source": [
    "* **Codes that just need the item within it**"
   ]
  },
  {
   "cell_type": "code",
   "execution_count": 2,
   "metadata": {
    "collapsed": false
   },
   "outputs": [
    {
     "name": "stdout",
     "output_type": "stream",
     "text": [
      "S   0\n",
      "m   1\n",
      "i   2\n",
      "t   3\n",
      "h   4\n"
     ]
    }
   ],
   "source": [
    "lastName=\"Smith\"\n",
    "\n",
    "count=0\n",
    "while (count<5):\n",
    "    print(lastName[count],\" \",count)\n",
    "    count+=1"
   ]
  },
  {
   "cell_type": "code",
   "execution_count": 3,
   "metadata": {
    "collapsed": false
   },
   "outputs": [
    {
     "name": "stdout",
     "output_type": "stream",
     "text": [
      "8\n"
     ]
    }
   ],
   "source": [
    "a,b = 1,1\n",
    "i=0\n",
    "while(i<6-1):\n",
    "    a,b = b,a+b\n",
    "    i+=1\n",
    "print(a)"
   ]
  },
  {
   "cell_type": "markdown",
   "metadata": {},
   "source": [
    "* Keep it!\n",
    "  * you may not actually need to work with the entire sequence as a whole\n",
    "  * Not all sequences need to be loaded in their entirety in advance"
   ]
  },
  {
   "cell_type": "markdown",
   "metadata": {},
   "source": [
    "## Caching"
   ]
  },
  {
   "cell_type": "markdown",
   "metadata": {
    "collapsed": true
   },
   "source": [
    "**Definition**\n",
    "> Storing data in a way that doesn't impact a public-facing interface"
   ]
  },
  {
   "cell_type": "code",
   "execution_count": 4,
   "metadata": {
    "collapsed": false
   },
   "outputs": [
    {
     "data": {
      "text/plain": [
       "True"
      ]
     },
     "execution_count": 4,
     "metadata": {},
     "output_type": "execute_result"
    }
   ],
   "source": [
    "import webbrowser\n",
    "webbrowser.open_new('http://www.python.org/')\n",
    "#more info at:  https://docs.python.org/3.4/library/webbrowser.html"
   ]
  },
  {
   "cell_type": "markdown",
   "metadata": {},
   "source": [
    "**Some rules for Caching**\n",
    "* A cache should be looked at as a time-saving utility that doesn't explicitly need to exist in order for a feature to work properly\n",
    "* Code must always accept enough information to generate a valid result without the use of the cache.\n",
    "* Careful about ensuring that the cache is up-to-date as your needs demand\n",
    "* Cache a value indefinitely but update it immediately when the value is updated"
   ]
  },
  {
   "cell_type": "markdown",
   "metadata": {},
   "source": [
    "## Transparency"
   ]
  },
  {
   "cell_type": "markdown",
   "metadata": {},
   "source": [
    "**Definition**\n",
    "> The ability of your code to see nearly everything that the computer has access to"
   ]
  },
  {
   "cell_type": "markdown",
   "metadata": {},
   "source": [
    "Transparent access in Python\n",
    "* Python doesn't support the notion of private variables\n",
    "* Allow to inspect a wide range of aspects of objects and the code"
   ]
  },
  {
   "cell_type": "markdown",
   "metadata": {},
   "source": [
    "Information available at runtime => **Introspection**\n",
    "* Attributes on an object\n",
    "* The names of attributes available on an object\n",
    "* The type of an object\n",
    "* The module where a class or function was defined\n",
    "* The filename where a module was loaded\n",
    "* The bytecode for a given function"
   ]
  },
  {
   "cell_type": "markdown",
   "metadata": {},
   "source": [
    "# Control Flow"
   ]
  },
  {
   "cell_type": "markdown",
   "metadata": {},
   "source": [
    "Control statements\n",
    "* if\n",
    "* for\n",
    "* while"
   ]
  },
  {
   "cell_type": "markdown",
   "metadata": {},
   "source": [
    "## Catching Exceptions"
   ]
  },
  {
   "cell_type": "markdown",
   "metadata": {},
   "source": [
    "One function calls another,\n",
    "It can add its own expectations on top of what the called function already handles"
   ]
  },
  {
   "cell_type": "markdown",
   "metadata": {},
   "source": [
    "Basic keywords for catching exceptions\n",
    "* Raise a exception\n",
    "> **raise** keyword\n",
    "\n",
    "* Start a exception block\n",
    "> **try** keyword\n",
    "\n",
    "* Mark a block to execute when an exception is raised\n",
    "> **exception**"
   ]
  },
  {
   "cell_type": "markdown",
   "metadata": {},
   "source": [
    "Simplest example without additional information"
   ]
  },
  {
   "cell_type": "code",
   "execution_count": 5,
   "metadata": {
    "collapsed": false
   },
   "outputs": [
    {
     "name": "stdout",
     "output_type": "stream",
     "text": [
      "Enter a file to open:  \"/Users/sunjoo/run2.sh\"\n",
      "0\n"
     ]
    }
   ],
   "source": [
    "def count_lines(filename):\n",
    "    \"\"\"\n",
    "    Count the number of lines in a file. If the file can't be\n",
    "    opened, it should be treated the same as if it was empty.\n",
    "    \"\"\"\n",
    "    try:\n",
    "        return len(open(filename, 'r').readlines())\n",
    "    except:\n",
    "        # WHAT'S WRONG? WHAT ERROR?\n",
    "        return 0\n",
    "myfile=input(\"Enter a file to open:  \")\n",
    "print(count_lines(myfile))"
   ]
  },
  {
   "cell_type": "markdown",
   "metadata": {},
   "source": [
    "In order to account for exceptions that your code shouldn't interfere with, \n",
    "* the **except** keyword can accept one or more exception types that should be caught explicitly"
   ]
  },
  {
   "cell_type": "code",
   "execution_count": 6,
   "metadata": {
    "collapsed": false
   },
   "outputs": [
    {
     "name": "stdout",
     "output_type": "stream",
     "text": [
      "Enter a file to open:  \"/Users/sunjoo/run.sh\"\n",
      "0\n"
     ]
    }
   ],
   "source": [
    "def count_lines(filename):\n",
    "    \"\"\"\n",
    "    Count the number of lines in a file. If the file can't be\n",
    "    opened, it should be treated the same as if it was empty.\n",
    "    \"\"\"\n",
    "    try:\n",
    "        return len(open(filename, 'r').readlines()) \n",
    "    except IOError:\n",
    "        # Something went wrong reading the file.\n",
    "        return 0\n",
    "myfile=input(\"Enter a file to open:  \")\n",
    "print(count_lines(myfile))"
   ]
  },
  {
   "cell_type": "markdown",
   "metadata": {},
   "source": [
    "Catch multiple exception types\n",
    "* Catch some base class that all the necessary exceptions derive from"
   ]
  },
  {
   "cell_type": "code",
   "execution_count": 7,
   "metadata": {
    "collapsed": true
   },
   "outputs": [],
   "source": [
    "def count_lines(filename):\n",
    "    try:\n",
    "        return len(open(filename, 'r').readlines())\n",
    "    except EnvironmentError:\n",
    "        # For IOError, OSError, and all other subclasses of EnvironmentError\n",
    "        # Something went wrong reading the file. \n",
    "        return 0"
   ]
  },
  {
   "cell_type": "markdown",
   "metadata": {},
   "source": [
    "* Specify each type individually, separated by commas\n",
    "\n",
    "  (Multiplie exceptions must still be wrapped in a tuple for clarity)"
   ]
  },
  {
   "cell_type": "code",
   "execution_count": 8,
   "metadata": {
    "collapsed": true
   },
   "outputs": [],
   "source": [
    "def count_lines(filename):\n",
    "    try:\n",
    "        return len(open(filename, 'r').readlines())\n",
    "    except (EnvironmentError, TypeError):\n",
    "        # Something went wrong reading the file.\n",
    "        return 0"
   ]
  },
  {
   "cell_type": "markdown",
   "metadata": {},
   "source": [
    "* Access to the exception itself, Add **as** clause and supply a variable name"
   ]
  },
  {
   "cell_type": "code",
   "execution_count": 9,
   "metadata": {
    "collapsed": false
   },
   "outputs": [],
   "source": [
    "import logging\n",
    "def count_lines(filename):\n",
    "    \"\"\"\n",
    "    Count the number of lines in a file. If the file can't be\n",
    "    opened, it should be treated the same as if it was empty.\n",
    "    \"\"\"\n",
    "    try:\n",
    "        return len(open(filename, 'r').readlines())\n",
    "    except (EnvironmentError, TypeError) as e:\n",
    "        # Something went wrong reading the file. logging.error(e)\n",
    "        return 0"
   ]
  },
  {
   "cell_type": "markdown",
   "metadata": {},
   "source": [
    "* Combine multiple **except** clauses"
   ]
  },
  {
   "cell_type": "code",
   "execution_count": 10,
   "metadata": {
    "collapsed": false
   },
   "outputs": [],
   "source": [
    "import logging\n",
    "\n",
    "def count_lines(filename):\n",
    "    \"\"\"\n",
    "    Count the number of lines in a file. If the file can't be\n",
    "    opened, it should be treated the same as if it was empty.\n",
    "    \"\"\"\n",
    "    try:\n",
    "        return len(open(filename, 'r').readlines())\n",
    "    except TypeError as e:\n",
    "        # The filename wasn't valid for use with the filesystem.\n",
    "        logging.error(e)\n",
    "        return 0\n",
    "    except EnvironmentError as e:\n",
    "        # Something went wrong reading the file.\n",
    "        logging.error(e.args[1])\n",
    "        return 0"
   ]
  },
  {
   "cell_type": "markdown",
   "metadata": {},
   "source": [
    "## Exception Chains"
   ]
  },
  {
   "cell_type": "markdown",
   "metadata": {},
   "source": [
    "With Python3, use **from** keyword"
   ]
  },
  {
   "cell_type": "raw",
   "metadata": {},
   "source": [
    "def validate(value, validator):\n",
    "    try:\n",
    "        return validator(value)\n",
    "    except Exception as e:\n",
    "        ## Aadditional statements if you use Python 2\n",
    "        raise ValueError('Invalid value: %s' % value) from e\n",
    "def validator(value):\n",
    "    if len(value) > 10:\n",
    "        raise ValueError(\"Value can't exceed 10 characters\")\n",
    "validate('test', validator)\n",
    "validate(False, validator)"
   ]
  },
  {
   "cell_type": "raw",
   "metadata": {},
   "source": [
    "Traceback (most recent call last):\n",
    "  File \"test3.py\", line 3, in validate\n",
    "    return validator(value)\n",
    "  File \"test3.py\", line 7, in validator\n",
    "    if len(value) > 10:\n",
    "TypeError: object of type 'bool' has no len()\n",
    "\n",
    "The above exception was the direct cause of the following exception:\n",
    "\n",
    "Traceback (most recent call last):\n",
    "  File \"test3.py\", line 10, in <module>\n",
    "    validate(False, validator)\n",
    "  File \"test3.py\", line 5, in validate\n",
    "    raise ValueError('Invalid value: %s' % value) from e\n",
    "ValueError: Invalid value: False"
   ]
  },
  {
   "cell_type": "markdown",
   "metadata": {},
   "source": [
    "## When Everything Goes Right"
   ]
  },
  {
   "cell_type": "markdown",
   "metadata": {},
   "source": [
    "Code after exception blocks should proceed without any error handling if there is no exception occured\n",
    "> Use **else** keyword"
   ]
  },
  {
   "cell_type": "code",
   "execution_count": 11,
   "metadata": {
    "collapsed": false
   },
   "outputs": [
    {
     "name": "stderr",
     "output_type": "stream",
     "text": [
      "ERROR:root:No such file or directory\n"
     ]
    },
    {
     "ename": "UnboundLocalError",
     "evalue": "local variable 'file' referenced before assignment",
     "output_type": "error",
     "traceback": [
      "\u001b[0;31m---------------------------------------------------------------------------\u001b[0m",
      "\u001b[0;31mUnboundLocalError\u001b[0m                         Traceback (most recent call last)",
      "\u001b[0;32m<ipython-input-11-383de19cf4c1>\u001b[0m in \u001b[0;36m<module>\u001b[0;34m()\u001b[0m\n\u001b[1;32m     17\u001b[0m     \u001b[0;32mreturn\u001b[0m \u001b[0mlen\u001b[0m\u001b[0;34m(\u001b[0m\u001b[0mfile\u001b[0m\u001b[0;34m.\u001b[0m\u001b[0mreadlines\u001b[0m\u001b[0;34m(\u001b[0m\u001b[0;34m)\u001b[0m\u001b[0;34m)\u001b[0m\u001b[0;34m\u001b[0m\u001b[0m\n\u001b[1;32m     18\u001b[0m \u001b[0;34m\u001b[0m\u001b[0m\n\u001b[0;32m---> 19\u001b[0;31m \u001b[0mprint\u001b[0m\u001b[0;34m(\u001b[0m\u001b[0mcount_lines\u001b[0m\u001b[0;34m(\u001b[0m\u001b[0;34m'/Users/sunjoo/run2.sh'\u001b[0m\u001b[0;34m)\u001b[0m\u001b[0;34m)\u001b[0m\u001b[0;34m\u001b[0m\u001b[0m\n\u001b[0m",
      "\u001b[0;32m<ipython-input-11-383de19cf4c1>\u001b[0m in \u001b[0;36mcount_lines\u001b[0;34m(filename)\u001b[0m\n\u001b[1;32m     15\u001b[0m         \u001b[0mlogging\u001b[0m\u001b[0;34m.\u001b[0m\u001b[0merror\u001b[0m\u001b[0;34m(\u001b[0m\u001b[0me\u001b[0m\u001b[0;34m.\u001b[0m\u001b[0margs\u001b[0m\u001b[0;34m[\u001b[0m\u001b[0;36m1\u001b[0m\u001b[0;34m]\u001b[0m\u001b[0;34m)\u001b[0m\u001b[0;34m\u001b[0m\u001b[0m\n\u001b[1;32m     16\u001b[0m         \u001b[0;31m#return 0\u001b[0m\u001b[0;34m\u001b[0m\u001b[0;34m\u001b[0m\u001b[0m\n\u001b[0;32m---> 17\u001b[0;31m     \u001b[0;32mreturn\u001b[0m \u001b[0mlen\u001b[0m\u001b[0;34m(\u001b[0m\u001b[0mfile\u001b[0m\u001b[0;34m.\u001b[0m\u001b[0mreadlines\u001b[0m\u001b[0;34m(\u001b[0m\u001b[0;34m)\u001b[0m\u001b[0;34m)\u001b[0m\u001b[0;34m\u001b[0m\u001b[0m\n\u001b[0m\u001b[1;32m     18\u001b[0m \u001b[0;34m\u001b[0m\u001b[0m\n\u001b[1;32m     19\u001b[0m \u001b[0mprint\u001b[0m\u001b[0;34m(\u001b[0m\u001b[0mcount_lines\u001b[0m\u001b[0;34m(\u001b[0m\u001b[0;34m'/Users/sunjoo/run2.sh'\u001b[0m\u001b[0;34m)\u001b[0m\u001b[0;34m)\u001b[0m\u001b[0;34m\u001b[0m\u001b[0m\n",
      "\u001b[0;31mUnboundLocalError\u001b[0m: local variable 'file' referenced before assignment"
     ]
    }
   ],
   "source": [
    "import logging\n",
    "def count_lines(filename):\n",
    "    \"\"\"\n",
    "    Count the number of lines in a file. If the file can't be\n",
    "    opened, it should be treated the same as if it was empty.\n",
    "    \"\"\"\n",
    "    try:\n",
    "        file = open(filename, 'r')\n",
    "    except TypeError as e:\n",
    "        # The filename wasn't valid for use with the filesystem.\n",
    "        logging.error(e)\n",
    "        #return 0\n",
    "    except EnvironmentError as e:\n",
    "        # Something went wrong reading the file.\n",
    "        logging.error(e.args[1])\n",
    "        #return 0\n",
    "    return len(file.readlines())\n",
    "\n",
    "print(count_lines('/Users/sunjoo/run2.sh'))"
   ]
  },
  {
   "cell_type": "code",
   "execution_count": 12,
   "metadata": {
    "collapsed": false
   },
   "outputs": [
    {
     "name": "stderr",
     "output_type": "stream",
     "text": [
      "ERROR:root:No such file or directory: user defined\n"
     ]
    },
    {
     "name": "stdout",
     "output_type": "stream",
     "text": [
      "None\n"
     ]
    }
   ],
   "source": [
    "import logging\n",
    "def count_lines(filename):\n",
    "    \"\"\"\n",
    "    Count the number of lines in a file. If the file can't be\n",
    "    opened, it should be treated the same as if it was empty.\n",
    "    \"\"\"\n",
    "    try:\n",
    "        file = open(filename, 'r')\n",
    "    except TypeError as e:\n",
    "        # The filename wasn't valid for use with the filesystem.\n",
    "        logging.error(e)\n",
    "        #return 0\n",
    "    except EnvironmentError as e:\n",
    "        # Something went wrong reading the file.\n",
    "        logging.error(e.args[1] + \": user defined\")\n",
    "        #return 0\n",
    "    else:\n",
    "        return len(file.readlines())\n",
    "\n",
    "print(count_lines('/Users/sunjoo/run2.sh'))"
   ]
  },
  {
   "cell_type": "markdown",
   "metadata": {},
   "source": [
    "## Proceeding Regardless of Exceptions"
   ]
  },
  {
   "cell_type": "markdown",
   "metadata": {},
   "source": [
    "**finally** block\n",
    "> Get executed every time the associated **_try_**, **_except_** and   **_else_** blocks finish\n",
    "\n",
    "```python\n",
    "import logging\n",
    "\n",
    "def count_lines(filename):\n",
    "    file = None # file must always have a value\n",
    "    try:\n",
    "        file = open(filename, 'r') \n",
    "        lines = file.readlines()\n",
    "    except TypeError as e:\n",
    "        # The filename wasn't valid for use with the filesystem.\n",
    "        logging.error(e)\n",
    "        #return 0\n",
    "    except EnvironmentError as e:\n",
    "        # Something went wrong reading the file.\n",
    "        logging.error(e.args[1])\n",
    "        #return 0\n",
    "    except UnicodeDecodeError as e:\n",
    "        # The contents of the file were in an unknown encoding.\n",
    "        logging.error(e)\n",
    "        #return 0\n",
    "    else:\n",
    "        return len(lines)\n",
    "    finally:\n",
    "        if file:\n",
    "            file.close()\n",
    "```"
   ]
  },
  {
   "cell_type": "markdown",
   "metadata": {},
   "source": [
    "## Optimizing Loops"
   ]
  },
  {
   "cell_type": "markdown",
   "metadata": {},
   "source": [
    "How to optimize for **_while_**\n",
    "* Keep the **_while_** expression always True\n",
    "* and End the loop using a **_break_** statement"
   ]
  },
  {
   "cell_type": "markdown",
   "metadata": {},
   "source": [
    "```python\n",
    "def echo():\n",
    "    \"\"\"Returns everything you type until you press Ctrl-C\"\"\"\n",
    "    while True:\n",
    "        try:\n",
    "            input('Type Something or CTRL C to exit: ')\n",
    "        except KeyboardInterrupt:\n",
    "            print()  # Make sure the prompt appears on a new line.\n",
    "            print(\"bye for now...:\")\n",
    "            break\n",
    "echo()\n",
    "```"
   ]
  },
  {
   "cell_type": "markdown",
   "metadata": {},
   "source": [
    "## the [_with_](https://www.python.org/dev/peps/pep-0343/) Statement "
   ]
  },
  {
   "cell_type": "markdown",
   "metadata": {},
   "source": [
    "**_with_** : Don't silence any exceptions but make sure the cleanup code executes regardless of what happens \n",
    "\n",
    "By using **_with_**\n",
    "* Define a specific context , in which the contents of the block should execute\n",
    "* The object provided in the **_with_** statement gets to determine what that context means\n",
    "* clean actions : provided by a [context manager](http://eigenhombre.com/2013/04/20/introduction-to-context-managers/)\n"
   ]
  },
  {
   "cell_type": "markdown",
   "metadata": {},
   "source": [
    "**  _try / finally_ statement **\n",
    "```python\n",
    "def count_lines(filename):\n",
    "    \"\"\"Count the number of lines in a file.\"\"\"\n",
    "    file = open(filename, 'r')\n",
    "    try:\n",
    "        return len(file.readlines())\n",
    "    finally:\n",
    "        file.close()\n",
    "```"
   ]
  },
  {
   "cell_type": "markdown",
   "metadata": {},
   "source": [
    "** _with_ statement **\n",
    "```python\n",
    "def count_lines(filename):\n",
    "    \"\"\"Count the number of lines in a file.\"\"\"\n",
    "    with open(filename, 'r') as file:\n",
    "        return len(file.readlines())\n",
    "```"
   ]
  },
  {
   "cell_type": "markdown",
   "metadata": {},
   "source": [
    "## Conditional Expressions"
   ]
  },
  {
   "cell_type": "markdown",
   "metadata": {},
   "source": [
    "**with if/else combination**"
   ]
  },
  {
   "cell_type": "code",
   "execution_count": 13,
   "metadata": {
    "collapsed": false
   },
   "outputs": [
    {
     "name": "stdout",
     "output_type": "stream",
     "text": [
      "The value is just right.\n"
     ]
    }
   ],
   "source": [
    "def test_value(value):\n",
    "    if value < 100:\n",
    "        return 'The value is just right.'\n",
    "    else:\n",
    "        return 'The value is too big!'\n",
    "print(test_value(55))"
   ]
  },
  {
   "cell_type": "markdown",
   "metadata": {},
   "source": [
    "**with an expression**"
   ]
  },
  {
   "cell_type": "code",
   "execution_count": 14,
   "metadata": {
    "collapsed": false
   },
   "outputs": [
    {
     "name": "stdout",
     "output_type": "stream",
     "text": [
      "The value is just right.\n"
     ]
    }
   ],
   "source": [
    "def test_value(value):\n",
    "    return 'The value is ' + ('just right.' if value < 100 else 'too big!')\n",
    "print(test_value(55))"
   ]
  },
  {
   "cell_type": "markdown",
   "metadata": {},
   "source": [
    "**with 'and'/ 'or'**"
   ]
  },
  {
   "cell_type": "code",
   "execution_count": 15,
   "metadata": {
    "collapsed": false
   },
   "outputs": [
    {
     "name": "stdout",
     "output_type": "stream",
     "text": [
      "The value is just right\n"
     ]
    }
   ],
   "source": [
    "def test_value(value):\n",
    "    return 'The value is ' + (value < 100 and 'just right' or 'too big!')\n",
    "print(test_value(55))"
   ]
  },
  {
   "cell_type": "code",
   "execution_count": 16,
   "metadata": {
    "collapsed": false
   },
   "outputs": [
    {
     "name": "stdout",
     "output_type": "stream",
     "text": [
      "The value is too big!\n"
     ]
    }
   ],
   "source": [
    "def test_value(value):\n",
    "    return 'The value is ' + (value < 100 and '' or 'too big!')\n",
    "print(test_value(55))"
   ]
  },
  {
   "cell_type": "markdown",
   "metadata": {},
   "source": [
    "# Iteration"
   ]
  },
  {
   "cell_type": "markdown",
   "metadata": {},
   "source": [
    "**How to look at sequence**\n",
    "* As a collection of items\n",
    " * All items are in memory at once\n",
    "* As a way to access a single item at a time\n",
    " * One at a time can often be done much more efficiently"
   ]
  },
  {
   "cell_type": "markdown",
   "metadata": {},
   "source": [
    "What's **Iteration**\n",
    "* Traversing a colleciton, working with just one item at a time before moving on to the next\n",
    " * Don't need to load everything in memory all at once"
   ]
  },
  {
   "cell_type": "markdown",
   "metadata": {},
   "source": [
    "Example : [**_range()_**](https://docs.python.org/2/library/functions.html#range)\n",
    "* Don't return a list\n",
    "* **_range()_** itself doesn't contain any of the values in the sequence\n",
    "* Generate values one at a time, on demand, during the iteration\n"
   ]
  },
  {
   "cell_type": "code",
   "execution_count": null,
   "metadata": {
    "collapsed": false
   },
   "outputs": [],
   "source": [
    "for x in range(5):\n",
    "    print(x)"
   ]
  },
  {
   "cell_type": "code",
   "execution_count": null,
   "metadata": {
    "collapsed": false
   },
   "outputs": [],
   "source": [
    "import sys\n",
    "a = range(5)\n",
    "sys.getsizeof(a)"
   ]
  },
  {
   "cell_type": "code",
   "execution_count": null,
   "metadata": {
    "collapsed": false
   },
   "outputs": [],
   "source": [
    "b = range(0,5)\n",
    "sys.getsizeof(b)"
   ]
  },
  {
   "cell_type": "code",
   "execution_count": null,
   "metadata": {
    "collapsed": false
   },
   "outputs": [],
   "source": [
    "c = list(range(5))\n",
    "sys.getsizeof(c)"
   ]
  },
  {
   "cell_type": "markdown",
   "metadata": {},
   "source": [
    "## Sequence Unpacking"
   ]
  },
  {
   "cell_type": "markdown",
   "metadata": {},
   "source": [
    "With tuple\n",
    "* The sequence has a fixed length\n",
    "* each item in the sequence has a predetermined meaning"
   ]
  },
  {
   "cell_type": "markdown",
   "metadata": {},
   "source": [
    "**Case 1**"
   ]
  },
  {
   "cell_type": "code",
   "execution_count": null,
   "metadata": {
    "collapsed": false
   },
   "outputs": [],
   "source": [
    "a = 'http://collab.lge.com/main/display/NC50Platform/Compare+two+official+builds?one=starfish-drd4tv-official-h15:179:starfish-atsc-flash&two=starfish-179.deathvalley.h15-official-h15:17901:starfish-atsc-flash&region=atsc,dvb&fstype=nfs,nfs-devel'\n",
    "r = a.split('/')\n",
    "print(r)\n",
    "target_protocol = r[0]\n",
    "target_host = r[2]\n",
    "others  = r[3:]"
   ]
  },
  {
   "cell_type": "markdown",
   "metadata": {},
   "source": [
    "**Case 2** - Specify a number of names as a tuple"
   ]
  },
  {
   "cell_type": "code",
   "execution_count": null,
   "metadata": {
    "collapsed": false
   },
   "outputs": [],
   "source": [
    "a = 'http://collab.lge.com/'\n",
    "target_protocol,target_temp, target_host, others = a.split('/')\n",
    "print(target_protocol)\n",
    "print(target_temp)\n",
    "print(target_host)"
   ]
  },
  {
   "cell_type": "markdown",
   "metadata": {},
   "source": [
    "Add an asterik before the final name if a length isn't fixed"
   ]
  },
  {
   "cell_type": "code",
   "execution_count": null,
   "metadata": {
    "collapsed": true
   },
   "outputs": [],
   "source": [
    "a = 'http://collab.lge.com/main/display/NC50Platform/Compare+two+official+builds?one=starfish-drd4tv-official-h15:179:starfish-atsc-flash&two=starfish-179.deathvalley.h15-official-h15:17901:starfish-atsc-flash&region=atsc,dvb&fstype=nfs,nfs-devel'\n",
    "target_protocol,target_temp, target_host, *others = a.split('/')"
   ]
  },
  {
   "cell_type": "code",
   "execution_count": null,
   "metadata": {
    "collapsed": false
   },
   "outputs": [],
   "source": [
    "others"
   ]
  },
  {
   "cell_type": "markdown",
   "metadata": {},
   "source": [
    "## List Comprehensions"
   ]
  },
  {
   "cell_type": "markdown",
   "metadata": {},
   "source": [
    "Traditional wasy to extract some items from a list\n",
    "```python\n",
    ">>> output = []\n",
    ">>> for value in range(10):\n",
    "...     if value > 5:\n",
    "...\n",
    "...\n",
    ">>> output\n",
    "['6', '7', '8', '9']\n",
    "```"
   ]
  },
  {
   "cell_type": "markdown",
   "metadata": {},
   "source": [
    "Express the three main aspecs of codes into a single line\n",
    "1. A sequence to retrieve values from\n",
    "1. An expression that's used to determin whether a value should be included\n",
    "1. An expression that's used to provide a value to the new list\n",
    "\n",
    "```python\n",
    ">>> output = [str(value) for value in range(10) if value > 5] \n",
    ">>> output\n",
    "['6', '7', '8', '9']\n",
    ">>> min([value for value in range(10) if value > 5])\n",
    "6\n",
    "```"
   ]
  },
  {
   "cell_type": "markdown",
   "metadata": {},
   "source": [
    "The comprehension returns **a full list** "
   ]
  },
  {
   "cell_type": "markdown",
   "metadata": {},
   "source": [
    "## Generator Expression"
   ]
  },
  {
   "cell_type": "markdown",
   "metadata": {},
   "source": [
    "Surrounding the comprehension in parentheses\n",
    "* Create a generator\n",
    "\n",
    "```python\n",
    ">>> gen = (value for value in range(10) if value > 5)\n",
    ">>> gen\n",
    "<generator object <genexpr> at 0x...>\n",
    ">>> min(gen)\n",
    "6\n",
    ">>> min(gen)\n",
    "Traceback (most recent call last):\n",
    "  ...\n",
    "ValueError: min() arg is an empty sequence\n",
    ">>> min(value for value in range(10) if value > 5)\n",
    "6\n",
    "```"
   ]
  },
  {
   "cell_type": "markdown",
   "metadata": {},
   "source": [
    "**Generator**'s properties\n",
    "* A generator itself is an generator object that you don't have to create using the explicit interface.\n",
    "* If you view or inspect a generator without iterating over it, you won't have access to the full range of values\n",
    "* In order to retrieve values\n",
    "    * all you need to do is iterate over the generator and spit out values as need\n",
    "* Once the iteration is complete,\n",
    "    * There are ___no more values___ left to iterate and iterator doesn't restart\n",
    "        * It's not always obvious how it should restart the sequence\n",
    "        * Not all sequence should be reset once they complete\n",
    "* **Parentheses** don't always need to be unique to the expression.\n"
   ]
  },
  {
   "cell_type": "markdown",
   "metadata": {},
   "source": [
    "## Set Comprehensions"
   ]
  },
  {
   "cell_type": "markdown",
   "metadata": {},
   "source": [
    "How to build\n",
    "> Use curly braces\n",
    "\n",
    "Python3\n",
    "```python\n",
    "\n",
    ">>> {str(value) for value in range(10) if value > 5}\n",
    "{'6', '7', '8', '9'}\n",
    "```\n",
    "\n",
    "Python2 - Use built-in function [set()](https://docs.python.org/2/library/functions.html#func-set)\n",
    "```python\n",
    "#Python 2\n",
    "set(str(value) for value in range(10) if value > 5)\n",
    "```"
   ]
  },
  {
   "cell_type": "markdown",
   "metadata": {},
   "source": [
    "Properties\n",
    "* Sets are Unordered\n",
    "* Only Guarant that the same items will be presented\n"
   ]
  },
  {
   "cell_type": "markdown",
   "metadata": {},
   "source": [
    "## Dictionary Comprehensions"
   ]
  },
  {
   "cell_type": "markdown",
   "metadata": {},
   "source": [
    "### Dictionary\n",
    "> A form of sequence, each item is really a pair of key/value, Onordered\n",
    "\n",
    "```python\n",
    "set_val = {3,4,5}\n",
    "dict_val = {'first': 3, 'second': 4, 'third': 5 }\n",
    "```"
   ]
  },
  {
   "cell_type": "markdown",
   "metadata": {},
   "source": [
    "Colon : \n",
    "> Separate dictionary comprehensions from set comprehensions\n",
    "\n",
    "```python\n",
    "# Python3\n",
    ">>> {value: str(value) for value in range(10) if value > 5}\n",
    "{8: '8', 9: '9', 6: '6', 7: '7'}\n",
    "```\n",
    "\n",
    "```python\n",
    "# Python2\n",
    ">>> dict((value, str(value)) for value in range(10) if value > 5)\n",
    "{8: '8', 9: '9', 6: '6', 7: '7'}\n",
    "```"
   ]
  },
  {
   "cell_type": "markdown",
   "metadata": {},
   "source": [
    "## Chaining Iterables Together"
   ]
  },
  {
   "cell_type": "markdown",
   "metadata": {},
   "source": [
    "[**chain()**](https://docs.python.org/2/library/itertools.html#itertools.chain) function\n",
    "* Accept any number of iterables\n",
    "* Return a new generator\n"
   ]
  },
  {
   "cell_type": "markdown",
   "metadata": {},
   "source": [
    "```python\n",
    "In [1]: import itertools\n",
    "In [2]: a = itertools.chain(range(3), range(4), range(5))\n",
    "In [3]: b = list(itertools.chain(range(3), range(4), range(5)))\n",
    "In [4]: a\n",
    "Out[4]: <itertools.chain at 0x10353ceb8>\n",
    "In [5]: b\n",
    "Out[5]: [0, 1, 2, 0, 1, 2, 3, 0, 1, 2, 3, 4]\n",
    "In [6]: import sys\n",
    "In [7]: sys.getsizeof(a)\n",
    "Out[7]: 56\n",
    "In [8]: sys.getsizeof(b)\n",
    "Out[8]: 160\n",
    "In [9]: [i for i in a]\n",
    "Out[9]: [0, 1, 2, 0, 1, 2, 3, 0, 1, 2, 3, 4]\n",
    "```"
   ]
  },
  {
   "cell_type": "markdown",
   "metadata": {},
   "source": [
    "## Zipping Iterables Together"
   ]
  },
  {
   "cell_type": "markdown",
   "metadata": {},
   "source": [
    "with [**_zip()_**](https://docs.python.org/2/library/functions.html#zip) function\n",
    "* The first item from each iterable would come together to form a single tuple as the first value returned by a new generator\n",
    "* All of the second items become part of the second tuple in the generator, and so on.\n",
    "* Each tuple in the resulting sequence has exactly as many values as there are iterators to join together\n",
    "* Once the smallest sequence has been exhausted, zip() simply stops looking through the others."
   ]
  },
  {
   "cell_type": "code",
   "execution_count": null,
   "metadata": {
    "collapsed": false
   },
   "outputs": [],
   "source": [
    "list(zip(range(5),map(chr, range(97, 110))))"
   ]
  },
  {
   "cell_type": "markdown",
   "metadata": {},
   "source": [
    "**Useful when creating 'dict'**"
   ]
  },
  {
   "cell_type": "code",
   "execution_count": null,
   "metadata": {
    "collapsed": false
   },
   "outputs": [],
   "source": [
    "keys = map(chr, range(97, 102))\n",
    "values = range(1, 6)\n",
    "dict(zip(keys, values))"
   ]
  },
  {
   "cell_type": "markdown",
   "metadata": {},
   "source": [
    "# Collections"
   ]
  },
  {
   "cell_type": "markdown",
   "metadata": {},
   "source": [
    "## Sets"
   ]
  },
  {
   "cell_type": "markdown",
   "metadata": {},
   "source": [
    "What is different with 'list'\n",
    "> Useful for identifying the unique objects in a collection"
   ]
  },
  {
   "cell_type": "code",
   "execution_count": null,
   "metadata": {
    "collapsed": false
   },
   "outputs": [],
   "source": [
    "set('spam'.lower())"
   ]
  },
  {
   "cell_type": "code",
   "execution_count": null,
   "metadata": {
    "collapsed": false
   },
   "outputs": [],
   "source": [
    "set('eggs'.lower())"
   ]
  },
  {
   "cell_type": "markdown",
   "metadata": {},
   "source": [
    "Notes\n",
    "1. The built-in **_set()_** type takes a sequence as its argument\n",
    "    * Valid for any sequence, such as a string as shown in the example as well as lists, tuples, dictionary keys, or custom iterable objects\n",
    "1. The items in the set aren’t ordered the same way they appeared in the original string.\n",
    "1. The representation showed when displaying the set in the interactive shell"
   ]
  },
  {
   "cell_type": "markdown",
   "metadata": {},
   "source": [
    "Available functions\n",
    "* **_in__** keyword\n",
    "    * Determine membership"
   ]
  },
  {
   "cell_type": "code",
   "execution_count": null,
   "metadata": {
    "collapsed": false
   },
   "outputs": [],
   "source": [
    ">>> example = {1, 2, 3, 4, 5}\n",
    ">>> print(4 in  example)\n",
    ">>> print(6 in  example)\n"
   ]
  },
  {
   "cell_type": "markdown",
   "metadata": {},
   "source": [
    "* **_add()_**\n",
    "    * Make sure that the specified item ends up in the set\n",
    "    * If it was already there, do nothing"
   ]
  },
  {
   "cell_type": "code",
   "execution_count": null,
   "metadata": {
    "collapsed": false
   },
   "outputs": [],
   "source": [
    ">>> example = {1, 2, 3, 4, 5}\n",
    ">>> print(example)\n",
    ">>> example.add(6)\n",
    ">>> print(example)\n",
    ">>> example.add(6)\n",
    ">>> print(example)"
   ]
  },
  {
   "cell_type": "markdown",
   "metadata": {},
   "source": [
    "* **_update()_**\n",
    "    * Add the contents of a new set to one that already exist"
   ]
  },
  {
   "cell_type": "code",
   "execution_count": 18,
   "metadata": {
    "collapsed": false
   },
   "outputs": [
    {
     "name": "stdout",
     "output_type": "stream",
     "text": [
      "{1, 2, 3, 4, 5, 6, 7, 8, 9}\n"
     ]
    }
   ],
   "source": [
    ">>> example = {1, 2, 3, 4, 5}\n",
    ">>> example.update({6, 7, 8, 9})\n",
    ">>> print(example)"
   ]
  },
  {
   "cell_type": "markdown",
   "metadata": {},
   "source": [
    "* **_remove()_**\n",
    "    * Remove an item from a set if it exists\n",
    "    * Raise **_KeyError_** if an item wasn't in the set"
   ]
  },
  {
   "cell_type": "code",
   "execution_count": 21,
   "metadata": {
    "collapsed": false
   },
   "outputs": [
    {
     "ename": "KeyError",
     "evalue": "9",
     "output_type": "error",
     "traceback": [
      "\u001b[0;31m---------------------------------------------------------------------------\u001b[0m",
      "\u001b[0;31mKeyError\u001b[0m                                  Traceback (most recent call last)",
      "\u001b[0;32m<ipython-input-21-6619d5ae6066>\u001b[0m in \u001b[0;36m<module>\u001b[0;34m()\u001b[0m\n\u001b[1;32m      1\u001b[0m \u001b[0mexample\u001b[0m \u001b[0;34m=\u001b[0m \u001b[0;34m{\u001b[0m\u001b[0;36m1\u001b[0m\u001b[0;34m,\u001b[0m \u001b[0;36m2\u001b[0m\u001b[0;34m,\u001b[0m \u001b[0;36m3\u001b[0m\u001b[0;34m,\u001b[0m \u001b[0;36m4\u001b[0m\u001b[0;34m,\u001b[0m \u001b[0;36m5\u001b[0m\u001b[0;34m,\u001b[0m \u001b[0;36m6\u001b[0m\u001b[0;34m,\u001b[0m \u001b[0;36m7\u001b[0m\u001b[0;34m,\u001b[0m \u001b[0;36m8\u001b[0m\u001b[0;34m,\u001b[0m \u001b[0;36m9\u001b[0m\u001b[0;34m}\u001b[0m\u001b[0;34m\u001b[0m\u001b[0m\n\u001b[1;32m      2\u001b[0m \u001b[0mexample\u001b[0m\u001b[0;34m.\u001b[0m\u001b[0mremove\u001b[0m\u001b[0;34m(\u001b[0m\u001b[0;36m9\u001b[0m\u001b[0;34m)\u001b[0m\u001b[0;34m\u001b[0m\u001b[0m\n\u001b[0;32m----> 3\u001b[0;31m \u001b[0mexample\u001b[0m\u001b[0;34m.\u001b[0m\u001b[0mremove\u001b[0m\u001b[0;34m(\u001b[0m\u001b[0;36m9\u001b[0m\u001b[0;34m)\u001b[0m\u001b[0;34m\u001b[0m\u001b[0m\n\u001b[0m",
      "\u001b[0;31mKeyError\u001b[0m: 9"
     ]
    }
   ],
   "source": [
    ">>> example = {1, 2, 3, 4, 5, 6, 7, 8, 9}\n",
    ">>> example.remove(9)\n",
    ">>> example.remove(9)"
   ]
  },
  {
   "cell_type": "code",
   "execution_count": 23,
   "metadata": {
    "collapsed": false
   },
   "outputs": [
    {
     "name": "stdout",
     "output_type": "stream",
     "text": [
      "{1, 2, 3, 4, 5, 6, 7, 8}\n"
     ]
    }
   ],
   "source": [
    ">>> print(example)"
   ]
  },
  {
   "cell_type": "markdown",
   "metadata": {},
   "source": [
    "* **_discard()_** \n",
    "    * Works just like remove() \n",
    "    * Without raising an exception if the specified item wasn’t in the set:"
   ]
  },
  {
   "cell_type": "code",
   "execution_count": 25,
   "metadata": {
    "collapsed": false
   },
   "outputs": [],
   "source": [
    ">>> example = {1, 2, 3, 4, 5, 6, 7, 8, 9}\n",
    ">>> example.discard(9)\n",
    ">>> example.discard(9)"
   ]
  },
  {
   "cell_type": "markdown",
   "metadata": {},
   "source": [
    "* **_pop()_**\n",
    "    * Picks one arbitrarily and  return it for use outside the set"
   ]
  },
  {
   "cell_type": "code",
   "execution_count": 28,
   "metadata": {
    "collapsed": false
   },
   "outputs": [
    {
     "data": {
      "text/plain": [
       "1"
      ]
     },
     "execution_count": 28,
     "metadata": {},
     "output_type": "execute_result"
    }
   ],
   "source": [
    ">>> example = {1, 2, 3, 4, 5, 6, 7, 8, 9}\n",
    ">>> example.pop()"
   ]
  },
  {
   "cell_type": "code",
   "execution_count": 29,
   "metadata": {
    "collapsed": false
   },
   "outputs": [
    {
     "data": {
      "text/plain": [
       "2"
      ]
     },
     "execution_count": 29,
     "metadata": {},
     "output_type": "execute_result"
    }
   ],
   "source": [
    ">>> example.pop()"
   ]
  },
  {
   "cell_type": "code",
   "execution_count": 31,
   "metadata": {
    "collapsed": false
   },
   "outputs": [
    {
     "name": "stdout",
     "output_type": "stream",
     "text": [
      "{3, 4, 5, 6, 7, 8, 9}\n"
     ]
    }
   ],
   "source": [
    ">>> print(example)"
   ]
  },
  {
   "cell_type": "markdown",
   "metadata": {},
   "source": [
    "* **_clear()_**\n",
    "    *  Remove all items in one shot,"
   ]
  },
  {
   "cell_type": "code",
   "execution_count": 33,
   "metadata": {
    "collapsed": false
   },
   "outputs": [
    {
     "data": {
      "text/plain": [
       "set()"
      ]
     },
     "execution_count": 33,
     "metadata": {},
     "output_type": "execute_result"
    }
   ],
   "source": [
    ">>> example = {1, 2, 3, 4, 5, 6, 7, 8, 9}\n",
    ">>> example.clear()\n",
    ">>> example"
   ]
  },
  {
   "cell_type": "markdown",
   "metadata": {},
   "source": [
    "* **_union()_**\n",
    "    * The contents of two sets are joined together so the resulting new set contains all items that were in both of the original sets\n",
    "    * Can use the pipe character ( | )"
   ]
  },
  {
   "cell_type": "code",
   "execution_count": 35,
   "metadata": {
    "collapsed": false
   },
   "outputs": [
    {
     "name": "stdout",
     "output_type": "stream",
     "text": [
      "{1, 2, 3, 4, 5, 6}\n",
      "{1, 2, 3, 4, 5, 6}\n"
     ]
    }
   ],
   "source": [
    ">>> print({1, 2, 3} | {4, 5, 6})\n",
    ">>> print({1, 2, 3}.union({4, 5, 6}))\n"
   ]
  },
  {
   "cell_type": "markdown",
   "metadata": {},
   "source": [
    "* **_intersection()_**\n",
    "    * The result is the set of all items common to the original sets\n",
    "    * Can use the ampersand character (&)"
   ]
  },
  {
   "cell_type": "code",
   "execution_count": 36,
   "metadata": {
    "collapsed": false
   },
   "outputs": [
    {
     "name": "stdout",
     "output_type": "stream",
     "text": [
      "{4, 5}\n",
      "{4, 5}\n"
     ]
    }
   ],
   "source": [
    ">>> print({1, 2, 3, 4, 5} & {4, 5, 6, 7, 8})\n",
    ">>> print({1, 2, 3, 4, 5}.intersection({4, 5, 6, 7, 8}))"
   ]
  },
  {
   "cell_type": "markdown",
   "metadata": {},
   "source": [
    "* **_difference()_**\n",
    "    * Resulting in a set of all the items that exist in one of the sets but not the other\n",
    "    * Can use the substraction operator( - )"
   ]
  },
  {
   "cell_type": "code",
   "execution_count": 42,
   "metadata": {
    "collapsed": false
   },
   "outputs": [
    {
     "name": "stdout",
     "output_type": "stream",
     "text": [
      "{1, 3, 5}\n",
      "{1, 3, 5}\n"
     ]
    }
   ],
   "source": [
    ">>> print({1, 2, 3, 4, 5} - {2, 4, 6})\n",
    ">>> print({1, 2, 3, 4, 5}.difference({2, 4, 6}))"
   ]
  },
  {
   "cell_type": "markdown",
   "metadata": {},
   "source": [
    "* **_symmetric_difference()_**\n",
    "    * The resulting set contains all items that were in either set, but not in both.\n",
    "    * Can use the caret (^) "
   ]
  },
  {
   "cell_type": "code",
   "execution_count": 44,
   "metadata": {
    "collapsed": false
   },
   "outputs": [
    {
     "name": "stdout",
     "output_type": "stream",
     "text": [
      "{1, 2, 3, 6}\n",
      "{1, 2, 3, 6}\n"
     ]
    }
   ],
   "source": [
    ">>> print({1, 2, 3, 4, 5} ^ {4, 5, 6})\n",
    ">>> print({1, 2, 3, 4, 5}.symmetric_difference({4, 5, 6}))"
   ]
  },
  {
   "cell_type": "markdown",
   "metadata": {},
   "source": [
    "* **_issubset()_**\n",
    "    * Check if one set is subset \n",
    "* **_issuperset()_**\n",
    "    * Check if one set is superset"
   ]
  },
  {
   "cell_type": "code",
   "execution_count": 49,
   "metadata": {
    "collapsed": false
   },
   "outputs": [
    {
     "data": {
      "text/plain": [
       "True"
      ]
     },
     "execution_count": 49,
     "metadata": {},
     "output_type": "execute_result"
    }
   ],
   "source": [
    ">>> {1, 2, 3}.issubset({1, 2, 3, 4, 5})"
   ]
  },
  {
   "cell_type": "code",
   "execution_count": 50,
   "metadata": {
    "collapsed": false
   },
   "outputs": [
    {
     "data": {
      "text/plain": [
       "True"
      ]
     },
     "execution_count": 50,
     "metadata": {},
     "output_type": "execute_result"
    }
   ],
   "source": [
    ">>> not({1,2,3} - {1,2,3,4,5})"
   ]
  },
  {
   "cell_type": "code",
   "execution_count": 52,
   "metadata": {
    "collapsed": false
   },
   "outputs": [
    {
     "data": {
      "text/plain": [
       "False"
      ]
     },
     "execution_count": 52,
     "metadata": {},
     "output_type": "execute_result"
    }
   ],
   "source": [
    ">>> {1, 2, 3, 4, 5}.issubset({1, 2, 3})"
   ]
  },
  {
   "cell_type": "code",
   "execution_count": 53,
   "metadata": {
    "collapsed": false
   },
   "outputs": [
    {
     "data": {
      "text/plain": [
       "False"
      ]
     },
     "execution_count": 53,
     "metadata": {},
     "output_type": "execute_result"
    }
   ],
   "source": [
    ">>> not({1, 2, 3, 4, 5} - {1, 2, 3})"
   ]
  },
  {
   "cell_type": "code",
   "execution_count": 47,
   "metadata": {
    "collapsed": false
   },
   "outputs": [
    {
     "data": {
      "text/plain": [
       "False"
      ]
     },
     "execution_count": 47,
     "metadata": {},
     "output_type": "execute_result"
    }
   ],
   "source": [
    ">>> {1, 2, 3}.issuperset({1, 2, 3, 4, 5})"
   ]
  },
  {
   "cell_type": "code",
   "execution_count": 54,
   "metadata": {
    "collapsed": false
   },
   "outputs": [
    {
     "data": {
      "text/plain": [
       "True"
      ]
     },
     "execution_count": 54,
     "metadata": {},
     "output_type": "execute_result"
    }
   ],
   "source": [
    ">>> {1, 2, 3, 4, 5}.issuperset({1, 2, 3})"
   ]
  },
  {
   "cell_type": "markdown",
   "metadata": {},
   "source": [
    "## Named Tuples"
   ]
  },
  {
   "cell_type": "code",
   "execution_count": 57,
   "metadata": {
    "collapsed": false
   },
   "outputs": [
    {
     "name": "stdout",
     "output_type": "stream",
     "text": [
      "Point(x=13, y=25)\n",
      "13 25\n",
      "13 25\n"
     ]
    }
   ],
   "source": [
    ">>> from collections import namedtuple\n",
    ">>> Point = namedtuple('Point', 'x y')\n",
    ">>> point = Point(13, 25)\n",
    ">>> print(point)\n",
    ">>> print(point.x, point.y)\n",
    ">>> print(point[0], point[1])"
   ]
  },
  {
   "cell_type": "markdown",
   "metadata": {},
   "source": [
    "Description\n",
    "* The instance don't need to contain any of the keys, only the values\n",
    "* Useful when creating a list of object with predetermined keys"
   ]
  },
  {
   "cell_type": "code",
   "execution_count": 60,
   "metadata": {
    "collapsed": false
   },
   "outputs": [],
   "source": [
    ">>> a = {'x':1, 'y':2}\n",
    ">>> b = {'x':3, 'y':4}\n",
    ">>> c = {'x':5, 'y':6}"
   ]
  },
  {
   "cell_type": "code",
   "execution_count": 62,
   "metadata": {
    "collapsed": true
   },
   "outputs": [],
   "source": [
    ">>> from collections import namedtuple\n",
    ">>> Point = namedtuple('Point', 'x y')\n",
    ">>> a = Point(1,2)\n",
    ">>> b = Point(3,4)\n",
    ">>> c = Point(5,6)"
   ]
  },
  {
   "cell_type": "markdown",
   "metadata": {},
   "source": [
    "## Ordered Dictionaries"
   ]
  },
  {
   "cell_type": "markdown",
   "metadata": {},
   "source": [
    "**OrderedDict**\n",
    "> Iterate over those keys in a reliable(intentional) manner"
   ]
  },
  {
   "cell_type": "code",
   "execution_count": 66,
   "metadata": {
    "collapsed": false
   },
   "outputs": [
    {
     "data": {
      "text/plain": [
       "OrderedDict([(9, '9'), (8, '8'), (7, '7'), (6, '6')])"
      ]
     },
     "execution_count": 66,
     "metadata": {},
     "output_type": "execute_result"
    }
   ],
   "source": [
    ">>> from collections import OrderedDict\n",
    ">>> d = OrderedDict(\n",
    "    reversed([(6, '6'), (7, '7'), (8, '8'), (9, '9')])\n",
    "            )\n",
    ">>> d\n"
   ]
  },
  {
   "cell_type": "code",
   "execution_count": 71,
   "metadata": {
    "collapsed": false
   },
   "outputs": [
    {
     "data": {
      "text/plain": [
       "{6: '6', 7: '7', 8: '8', 9: '9'}"
      ]
     },
     "execution_count": 71,
     "metadata": {},
     "output_type": "execute_result"
    }
   ],
   "source": [
    ">>> e = {9:'9', 8:'8', 7:'7', 6:'6'}\n",
    ">>> e"
   ]
  },
  {
   "cell_type": "markdown",
   "metadata": {},
   "source": [
    "## Dictionaries with Defaults"
   ]
  },
  {
   "cell_type": "markdown",
   "metadata": {},
   "source": [
    "**Case 1** : Use get()"
   ]
  },
  {
   "cell_type": "code",
   "execution_count": 73,
   "metadata": {
    "collapsed": false
   },
   "outputs": [],
   "source": [
    "def count_words(text):\n",
    "    count = {}\n",
    "    for word in text.split(' '):\n",
    "        current = count.get(word, 0) # Return 0 Whey KeyError is raised\n",
    "        count[word] = current + 1\n",
    "    return count"
   ]
  },
  {
   "cell_type": "markdown",
   "metadata": {},
   "source": [
    "**Case 2** : Use **_defaultdict_** class\n",
    "* You can pass in a callable as the single argument\n",
    "* Built-in callables default value\n",
    "    * **_list_** : Empty list\n",
    "    * **_str_** : Empty string\n",
    "    * **_int_** : 0(zero)\n",
    "    * **_dict_** : Empty dictionary"
   ]
  },
  {
   "cell_type": "code",
   "execution_count": 75,
   "metadata": {
    "collapsed": true
   },
   "outputs": [],
   "source": [
    "from collections import defaultdict\n",
    "def count_words(text):\n",
    "    count = defaultdict(int)\n",
    "    for word in text.split(' '):\n",
    "        count[word] += 1\n",
    "    return count"
   ]
  },
  {
   "cell_type": "markdown",
   "metadata": {},
   "source": [
    "# Importing Codes"
   ]
  },
  {
   "cell_type": "markdown",
   "metadata": {},
   "source": [
    "## Fallback Imports"
   ]
  },
  {
   "cell_type": "markdown",
   "metadata": {},
   "source": [
    "**Case** : When a module gets moved or renamed"
   ]
  },
  {
   "cell_type": "code",
   "execution_count": 78,
   "metadata": {
    "collapsed": false
   },
   "outputs": [
    {
     "name": "stdout",
     "output_type": "stream",
     "text": [
      "Python3\n"
     ]
    }
   ],
   "source": [
    "try:\n",
    "    from urllib.parse import urlparse #Python3\n",
    "    print(\"Python3\")\n",
    "except ImportError as err:\n",
    "    from urlparse import urlparse #Python2\n",
    "    print(\"Python2\")"
   ]
  },
  {
   "cell_type": "markdown",
   "metadata": {},
   "source": [
    "## Importing from the Future"
   ]
  },
  {
   "cell_type": "code",
   "execution_count": null,
   "metadata": {
    "collapsed": true
   },
   "outputs": [],
   "source": []
  }
 ],
 "metadata": {
  "kernelspec": {
   "display_name": "Python 3",
   "language": "python",
   "name": "python3"
  },
  "language_info": {
   "codemirror_mode": {
    "name": "ipython",
    "version": 3
   },
   "file_extension": ".py",
   "mimetype": "text/x-python",
   "name": "python",
   "nbconvert_exporter": "python",
   "pygments_lexer": "ipython3",
   "version": "3.5.0"
  }
 },
 "nbformat": 4,
 "nbformat_minor": 0
}
