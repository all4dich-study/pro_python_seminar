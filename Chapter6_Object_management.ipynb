{
 "cells": [
  {
   "cell_type": "markdown",
   "metadata": {},
   "source": [
    "# Method / Attribute"
   ]
  },
  {
   "cell_type": "markdown",
   "metadata": {},
   "source": [
    "* Control object's behaviors\n",
    "* Data / Behavior"
   ]
  },
  {
   "cell_type": "markdown",
   "metadata": {},
   "source": [
    "# Object's three specific things\n",
    "* **Identity**\n",
    "    * Unique - Used to compare objects to each other without looking at any details\n",
    "    * Address in memory\n",
    "    * Not Shared\n",
    "    * Can't be modified at runtime > Can be reused once it's destroyed\n"
   ]
  },
  {
   "cell_type": "code",
   "execution_count": null,
   "metadata": {
    "collapsed": false
   },
   "outputs": [],
   "source": [
    "class A:\n",
    "    def __init__(self):\n",
    "        print(\"A: Init\")\n",
    "a = A\n",
    "aa = A\n",
    "print(id(a))\n",
    "print(id(aa))"
   ]
  },
  {
   "cell_type": "markdown",
   "metadata": {},
   "source": [
    "* **Type**\n",
    "    * Defined by its class and any base classes\n",
    "    * Shared\n"
   ]
  },
  {
   "cell_type": "markdown",
   "metadata": {},
   "source": [
    "* **Value**\n",
    "    * Provided by a namespace dictionary that's specific to a given object \n",
    "    * Designed to work with the type "
   ]
  },
  {
   "cell_type": "markdown",
   "metadata": {},
   "source": [
    "# Namespace Dictionary"
   ]
  },
  {
   "cell_type": "markdown",
   "metadata": {},
   "source": [
    "Object's namespace\n",
    "* Implemented as a dictionary that's created \n",
    "* Used to store values for all the attributes on the object\n",
    "* **Can be accesses and modified at run-time**\n",
    " * Can be replaced with another dictionary\n",
    "* *\\__dict__*\n"
   ]
  },
  {
   "cell_type": "markdown",
   "metadata": {},
   "source": [
    "## Example: Borg Patttern"
   ]
  },
  {
   "cell_type": "markdown",
   "metadata": {},
   "source": [
    "A large number of instances to share a single namespace\n",
    "* The identity remains distinct\n",
    "\n",
    "**`__init__()`**\n",
    "* All subclasses would need to make sure they use **`super()`** in order to call the initialization prodedures from the Bog classes\n",
    "    * Use **`super()`** before doing any attribute assignments of their own\n",
    "*"
   ]
  },
  {
   "cell_type": "code",
   "execution_count": null,
   "metadata": {
    "collapsed": true
   },
   "outputs": [],
   "source": [
    "class Borg:\n",
    "    _namespace = {}\n",
    "    def __init__(self):\n",
    "        self.__dict__ = Borg._namespace\n",
    "\n",
    "a = Borg()\n",
    "b = Borg()"
   ]
  },
  {
   "cell_type": "code",
   "execution_count": null,
   "metadata": {
    "collapsed": false
   },
   "outputs": [],
   "source": [
    "hasattr(a, 'attribute')"
   ]
  },
  {
   "cell_type": "code",
   "execution_count": null,
   "metadata": {
    "collapsed": false
   },
   "outputs": [],
   "source": [
    "b.attribute = 'value'\n",
    "hasattr(a, 'attribute')"
   ]
  },
  {
   "cell_type": "code",
   "execution_count": null,
   "metadata": {
    "collapsed": false
   },
   "outputs": [],
   "source": [
    "a.attribute"
   ]
  },
  {
   "cell_type": "code",
   "execution_count": null,
   "metadata": {
    "collapsed": false
   },
   "outputs": [],
   "source": [
    "Borg._namespace"
   ]
  },
  {
   "cell_type": "markdown",
   "metadata": {},
   "source": [
    "**Mixin**"
   ]
  },
  {
   "cell_type": "code",
   "execution_count": null,
   "metadata": {
    "collapsed": false
   },
   "outputs": [],
   "source": [
    "class Base:\n",
    "    def __init__(self):\n",
    "        print('Base')\n",
    "\n",
    "class Borg:\n",
    "    _namespace = {}\n",
    "    def __init__(self, *args, **kwargs):\n",
    "        self.__dict__ = Borg._namespace\n",
    "        print('Borg')\n",
    "\n",
    "class Testing(Borg, Base):\n",
    "    pass\n",
    "print(Testing())\n",
    "class Testing(Base, Borg):\n",
    "    pass\n",
    "print(Testing())"
   ]
  },
  {
   "cell_type": "markdown",
   "metadata": {},
   "source": [
    "[**`__new()__`**](https://docs.python.org/3/reference/datamodel.html#object.__new__)\n",
    "* `__new()__` is less commonly implemented\n",
    "    * The odds of running into conflicting implementations are much smaller\n",
    "* The object must be created along the way, usually by calling `__new__()` on the base object."
   ]
  },
  {
   "cell_type": "code",
   "execution_count": null,
   "metadata": {
    "collapsed": false
   },
   "outputs": [],
   "source": [
    "# For all classes that inherit from Borg \n",
    "class Base:\n",
    "    def __init__(self):\n",
    "        print('Base')\n",
    "class Borg:\n",
    "    _namespace = {}\n",
    "    def __new__(cls, *args, **kwargs):\n",
    "        print('Borg')\n",
    "        obj = super(Borg, cls).__new__(cls, *args, **kwargs)\n",
    "        obj.__dict__ = cls._namespace\n",
    "        return obj\n",
    "class TestingOne(Borg, Base):\n",
    "    pass\n",
    "\n",
    "print(\"# First #\")\n",
    "print(TestingOne())\n",
    "class TestingTwo(Base, Borg):\n",
    "    pass\n",
    "\n",
    "print(\"# Second #\")\n",
    "print(TestingTwo())\n",
    "a = TestingOne()\n",
    "Borg\n",
    "Base\n",
    "b = TestingTwo()\n",
    "Borg\n",
    "Base\n",
    "a.attribute = 'value'\n",
    "print(\"B Attribute:\" + b.attribute)\n"
   ]
  },
  {
   "cell_type": "markdown",
   "metadata": {},
   "source": [
    "**Apply Borg only to those classes where it is applied**\n",
    "* `__new()__` must **create a new dictionary for each new class it encounters**, assigning it to a value in the existing namespace dictionary"
   ]
  },
  {
   "cell_type": "code",
   "execution_count": null,
   "metadata": {
    "collapsed": false
   },
   "outputs": [],
   "source": [
    "class Borg:\n",
    "    _namespace = {}\n",
    "    def __new__(cls, *args, **kwargs):\n",
    "        print(\"Borg\")\n",
    "        print(cls)\n",
    "        obj = super(Borg, cls).__new__(cls, *args, **kwargs)\n",
    "        obj.__dict__ = cls._namespace.setdefault(cls, {})\n",
    "        return obj\n",
    "class TestOne(Borg):\n",
    "    pass\n",
    "class TestTwo(Borg):\n",
    "    pass\n",
    "a = TestOne()\n",
    "b = TestOne()"
   ]
  },
  {
   "cell_type": "code",
   "execution_count": null,
   "metadata": {
    "collapsed": false
   },
   "outputs": [],
   "source": [
    "a.spam = 'eggs'\n",
    "b.spam"
   ]
  },
  {
   "cell_type": "code",
   "execution_count": null,
   "metadata": {
    "collapsed": false
   },
   "outputs": [],
   "source": [
    "c = TestTwo()\n",
    "c.spam"
   ]
  },
  {
   "cell_type": "code",
   "execution_count": null,
   "metadata": {
    "collapsed": false
   },
   "outputs": [],
   "source": [
    "c.spam = 'Burger'\n",
    "d = TestTwo()\n",
    "d.spam"
   ]
  },
  {
   "cell_type": "code",
   "execution_count": null,
   "metadata": {
    "collapsed": false
   },
   "outputs": [],
   "source": [
    "a.spam"
   ]
  },
  {
   "cell_type": "code",
   "execution_count": null,
   "metadata": {
    "collapsed": false
   },
   "outputs": [],
   "source": [
    "Borg._namespace"
   ]
  },
  {
   "cell_type": "markdown",
   "metadata": {},
   "source": [
    "## Self-Caching Properties"
   ]
  },
  {
   "cell_type": "markdown",
   "metadata": {},
   "source": [
    "**Acess to properties**\n",
    "* Every access to the attribute perform a lookup in the namespace.\n",
    " * A value must have been created and stored previously\n",
    " * The attribute value can be a complex object\n",
    " * Example: **`ORM(Object-Relational Mapping)`** sitting between application code and a relational databases"
   ]
  },
  {
   "cell_type": "markdown",
   "metadata": {},
   "source": [
    "**Caching function's return value**\n",
    "* Supply the name of the attribute as an argument to **`cacheproperty()`** in addition to naming the function"
   ]
  },
  {
   "cell_type": "code",
   "execution_count": null,
   "metadata": {
    "collapsed": true
   },
   "outputs": [],
   "source": [
    "import functools\n",
    "\n",
    "def cacheproperty(name):\n",
    "    def decorator(func):\n",
    "        @property\n",
    "        @functools.wraps(func)\n",
    "        def wrapper(self):\n",
    "            if name not in self.__dict__:\n",
    "                self.__dict__[name] = func(self) # Store function's return value\n",
    "            return self.__dict__[name]\n",
    "        return wrapper\n",
    "    return decorator"
   ]
  },
  {
   "cell_type": "code",
   "execution_count": null,
   "metadata": {
    "collapsed": false
   },
   "outputs": [],
   "source": [
    "class Example:\n",
    "    @cacheproperty('attr')\n",
    "    def attr(self):\n",
    "        print('Gettring the value!')\n",
    "        return 42\n",
    "    \n",
    "e = Example()\n",
    "e.attr"
   ]
  },
  {
   "cell_type": "code",
   "execution_count": null,
   "metadata": {
    "collapsed": false
   },
   "outputs": [],
   "source": [
    "e.attr"
   ]
  },
  {
   "cell_type": "code",
   "execution_count": null,
   "metadata": {
    "collapsed": false
   },
   "outputs": [],
   "source": [
    "def cachedproperty(func):\n",
    "    values = {}\n",
    "    @property\n",
    "    @functools.wraps(func)\n",
    "    def wrapper(self):\n",
    "        if self not in values:\n",
    "            values[self] = func(self)\n",
    "        return values[self]\n",
    "    return wrapper\n",
    "\n",
    "class Example:\n",
    "    @cacheproperty\n",
    "    def attr(self):\n",
    "        print('Gettring the value!')\n",
    "        return 42\n",
    "    \n",
    "e = Example()\n",
    "e.attr()"
   ]
  },
  {
   "cell_type": "code",
   "execution_count": null,
   "metadata": {
    "collapsed": false
   },
   "outputs": [],
   "source": [
    "e.attr"
   ]
  },
  {
   "cell_type": "markdown",
   "metadata": {},
   "source": [
    "# Garbage Collection"
   ]
  },
  {
   "cell_type": "markdown",
   "metadata": {},
   "source": [
    "Key actions for GC\n",
    "* Identify an object as garbage(not used )\n",
    "* Remove garbage from meory\n"
   ]
  },
  {
   "cell_type": "markdown",
   "metadata": {},
   "source": [
    "Variables that are changed during a command session \n",
    "* Re-referenced if you re-declare variable with a previously used value during that session"
   ]
  },
  {
   "cell_type": "code",
   "execution_count": null,
   "metadata": {
    "collapsed": false
   },
   "outputs": [],
   "source": [
    "x=10\n",
    "type(x)"
   ]
  },
  {
   "cell_type": "code",
   "execution_count": null,
   "metadata": {
    "collapsed": false
   },
   "outputs": [],
   "source": [
    "id(x)"
   ]
  },
  {
   "cell_type": "code",
   "execution_count": null,
   "metadata": {
    "collapsed": false
   },
   "outputs": [],
   "source": [
    "x=\"foobar\"\n",
    "type(x)"
   ]
  },
  {
   "cell_type": "code",
   "execution_count": null,
   "metadata": {
    "collapsed": false
   },
   "outputs": [],
   "source": [
    "id(x)"
   ]
  },
  {
   "cell_type": "code",
   "execution_count": null,
   "metadata": {
    "collapsed": false
   },
   "outputs": [],
   "source": [
    "x=10\n",
    "id(x)"
   ]
  },
  {
   "cell_type": "markdown",
   "metadata": {},
   "source": [
    "## Rererence Counting"
   ]
  },
  {
   "cell_type": "markdown",
   "metadata": {},
   "source": [
    "**How to reference an object.**\n",
    "* Assign an object to any namespace\n",
    "  > Increase reference count"
   ]
  },
  {
   "cell_type": "markdown",
   "metadata": {},
   "source": [
    "**Createa reference**"
   ]
  },
  {
   "cell_type": "code",
   "execution_count": 1,
   "metadata": {
    "collapsed": true
   },
   "outputs": [],
   "source": [
    "a = [1,2,3]\n",
    "b = {'example': a}\n",
    "c = a"
   ]
  },
  {
   "cell_type": "code",
   "execution_count": 2,
   "metadata": {
    "collapsed": false
   },
   "outputs": [
    {
     "data": {
      "text/plain": [
       "4370093512"
      ]
     },
     "execution_count": 2,
     "metadata": {},
     "output_type": "execute_result"
    }
   ],
   "source": [
    "id(a)"
   ]
  },
  {
   "cell_type": "code",
   "execution_count": 3,
   "metadata": {
    "collapsed": false
   },
   "outputs": [
    {
     "data": {
      "text/plain": [
       "4370093512"
      ]
     },
     "execution_count": 3,
     "metadata": {},
     "output_type": "execute_result"
    }
   ],
   "source": [
    "id(b['example'])"
   ]
  },
  {
   "cell_type": "code",
   "execution_count": 5,
   "metadata": {
    "collapsed": false
   },
   "outputs": [
    {
     "data": {
      "text/plain": [
       "4370093512"
      ]
     },
     "execution_count": 5,
     "metadata": {},
     "output_type": "execute_result"
    }
   ],
   "source": [
    "id(c)"
   ]
  },
  {
   "cell_type": "code",
   "execution_count": 12,
   "metadata": {
    "collapsed": false
   },
   "outputs": [
    {
     "data": {
      "text/plain": [
       "4"
      ]
     },
     "execution_count": 12,
     "metadata": {},
     "output_type": "execute_result"
    }
   ],
   "source": [
    "import sys\n",
    "sys.getrefcount(b['example'])"
   ]
  },
  {
   "cell_type": "markdown",
   "metadata": {},
   "source": [
    "**Delete reference**"
   ]
  },
  {
   "cell_type": "code",
   "execution_count": null,
   "metadata": {
    "collapsed": false
   },
   "outputs": [],
   "source": [
    "del c\n",
    "a = None\n",
    "id(b['example'])"
   ]
  },
  {
   "cell_type": "markdown",
   "metadata": {},
   "source": [
    "## Cyclical Reference"
   ]
  },
  {
   "cell_type": "markdown",
   "metadata": {},
   "source": [
    "Only counting reference counts"
   ]
  },
  {
   "cell_type": "code",
   "execution_count": 35,
   "metadata": {
    "collapsed": false
   },
   "outputs": [
    {
     "name": "stdout",
     "output_type": "stream",
     "text": [
      "2\n",
      "3\n"
     ]
    }
   ],
   "source": [
    "# The dictionary and the list had one reference each other.\n",
    "b = {'example': [1,2,3]} \n",
    "print(sys.getrefcount(b))\n",
    "# Increase the dictionary's reference count by +1\n",
    "b['example'].append(b)\n",
    "print(sys.getrefcount(b))"
   ]
  },
  {
   "cell_type": "markdown",
   "metadata": {},
   "source": [
    "**If so, What number of the dic's reference counts after del b?**\n",
    "> decreased by -1\n",
    "\n",
    "    Not garbage collected If reference counts are only considered."
   ]
  },
  {
   "cell_type": "markdown",
   "metadata": {},
   "source": [
    "**'Reference Cycle'**\n",
    "* Any time a set of objects is referenced only by other objects in that set - and not from anywhere else in memory\n",
    "* If one object is part of an orphaned reference cycle, any related objects are all also scheduled for deletion, so **which one should fire first?**"
   ]
  },
  {
   "cell_type": "markdown",
   "metadata": {},
   "source": [
    "**How to handle a problem**\n",
    "* Avoid having any objects with **`__del__()`** methods in any cyclical references\n",
    "* Avoid having the objects appear in reference cycles.\n",
    "* Provide a way that you can still detect them and have a change to clean them up on a regular basis."
   ]
  },
  {
   "cell_type": "code",
   "execution_count": 54,
   "metadata": {
    "collapsed": false
   },
   "outputs": [],
   "source": [
    "import gc\n",
    "class Example:\n",
    "    def __init__(self, value):\n",
    "        self.value = value\n",
    "    def __repr__(self):\n",
    "        return 'Example %s' % self.value\n",
    "    def __del__(self):\n",
    "        print('Deleting %r' % self)\n",
    "e = Example(1)"
   ]
  },
  {
   "cell_type": "code",
   "execution_count": 55,
   "metadata": {
    "collapsed": false
   },
   "outputs": [
    {
     "data": {
      "text/plain": [
       "Example 1"
      ]
     },
     "execution_count": 55,
     "metadata": {},
     "output_type": "execute_result"
    }
   ],
   "source": [
    "e"
   ]
  },
  {
   "cell_type": "code",
   "execution_count": 51,
   "metadata": {
    "collapsed": false
   },
   "outputs": [],
   "source": [
    "del e"
   ]
  },
  {
   "cell_type": "code",
   "execution_count": 47,
   "metadata": {
    "collapsed": false
   },
   "outputs": [
    {
     "data": {
      "text/plain": [
       "0"
      ]
     },
     "execution_count": 47,
     "metadata": {},
     "output_type": "execute_result"
    }
   ],
   "source": [
    "gc.collect()"
   ]
  },
  {
   "cell_type": "code",
   "execution_count": 57,
   "metadata": {
    "collapsed": false
   },
   "outputs": [
    {
     "data": {
      "text/plain": [
       "[]"
      ]
     },
     "execution_count": 57,
     "metadata": {},
     "output_type": "execute_result"
    }
   ],
   "source": [
    "gc.garbage"
   ]
  },
  {
   "cell_type": "markdown",
   "metadata": {},
   "source": [
    "## Weak Rererences"
   ]
  },
  {
   "cell_type": "markdown",
   "metadata": {},
   "source": [
    "**Definition**\n",
    "> Get a reference to the object without increasing its reference count"
   ]
  },
  {
   "cell_type": "markdown",
   "metadata": {},
   "source": [
    "Use **`weakref`** module\n",
    "* **`ref()`** class\n",
    " * Create a weak reference to whatever object is passed into it."
   ]
  },
  {
   "cell_type": "code",
   "execution_count": 76,
   "metadata": {
    "collapsed": false
   },
   "outputs": [
    {
     "name": "stdout",
     "output_type": "stream",
     "text": [
      "<__main__.Example object at 0x105ce7048>\n",
      "<weakref at 0x10641f818; to 'Example' at 0x105ce7048>\n",
      "<weakref at 0x10641f818; dead>\n",
      "None\n"
     ]
    }
   ],
   "source": [
    "import weakref\n",
    "class Example:\n",
    "    pass\n",
    "\n",
    "e = Example()\n",
    "print(e)\n",
    "ref = weakref.ref(e)\n",
    "print(ref)\n",
    "ref()\n",
    "del e\n",
    "print(ref)\n",
    "print(ref())"
   ]
  },
  {
   "cell_type": "code",
   "execution_count": 82,
   "metadata": {
    "collapsed": false
   },
   "outputs": [
    {
     "name": "stdout",
     "output_type": "stream",
     "text": [
      "<weakref at 0x105cea188; dead>\n",
      "None\n"
     ]
    }
   ],
   "source": [
    "import weakref\n",
    "class Example:\n",
    "    pass\n",
    "\n",
    "# Instantiating the object as part of the call ref(),\n",
    "# the reference is inside of ref()\n",
    "ref = weakref.ref(Example())\n",
    "print(ref)\n",
    "print(ref())"
   ]
  },
  {
   "cell_type": "markdown",
   "metadata": {},
   "source": [
    "Assignments in the function take place in that namespace, so once it's destroybed, **any objects assigned are destroyed as well unless they have references stored elsewhere**"
   ]
  },
  {
   "cell_type": "code",
   "execution_count": 84,
   "metadata": {
    "collapsed": false
   },
   "outputs": [
    {
     "name": "stdout",
     "output_type": "stream",
     "text": [
      "<weakref at 0x105cea688; dead>\n",
      "None\n"
     ]
    }
   ],
   "source": [
    "def example():\n",
    "    e = Example()\n",
    "    ref = weakref.ref(e)\n",
    "    return ref\n",
    "\n",
    "e = example()\n",
    "print(e)\n",
    "print(e())"
   ]
  },
  {
   "cell_type": "code",
   "execution_count": 89,
   "metadata": {
    "collapsed": false
   },
   "outputs": [
    {
     "name": "stdout",
     "output_type": "stream",
     "text": [
      "2\n",
      "3\n",
      "3\n"
     ]
    }
   ],
   "source": [
    "e1 = Example()\n",
    "print(sys.getrefcount(e1))\n",
    "e2 = e1\n",
    "print(sys.getrefcount(e1))\n",
    "w = weakref.ref(e1)\n",
    "print(sys.getrefcount(e1))"
   ]
  },
  {
   "cell_type": "markdown",
   "metadata": {},
   "source": [
    "# Pickle"
   ]
  },
  {
   "cell_type": "markdown",
   "metadata": {},
   "source": [
    "**Defintion**\n",
    "* Convert a Python object into a persistent character stream that can be reloaded later\n",
    "* Used for **serializing** and **deserializing**\n",
    "* A sort of snapshot of the object at the time it was pickled"
   ]
  },
  {
   "cell_type": "markdown",
   "metadata": {},
   "source": [
    "Objects\n",
    "* Can be applied for list, dictionary..\n",
    "* Can't be applifed for **function**, **classs**"
   ]
  },
  {
   "cell_type": "markdown",
   "metadata": {},
   "source": [
    "Module\n",
    "* **`pickle`** module\n",
    "* dump() / dumps() methods"
   ]
  },
  {
   "cell_type": "markdown",
   "metadata": {},
   "source": [
    "Protocol\n",
    "* The pickle string always ocntains two bytes: **Protocol**\n",
    "    * Tell which version of the pickling protocol to use"
   ]
  },
  {
   "cell_type": "code",
   "execution_count": 94,
   "metadata": {
    "collapsed": false
   },
   "outputs": [
    {
     "name": "stdout",
     "output_type": "stream",
     "text": [
      "b'\\x80\\x03K\\x01.'\n",
      "b'\\x80\\x03K*.'\n",
      "b'\\x80\\x03X\\x02\\x00\\x00\\x0042q\\x00.'\n"
     ]
    }
   ],
   "source": [
    "import pickle\n",
    "print(pickle.dumps(1))\n",
    "print(pickle.dumps(42))\n",
    "print(pickle.dumps('42'))"
   ]
  },
  {
   "cell_type": "code",
   "execution_count": 96,
   "metadata": {
    "collapsed": false
   },
   "outputs": [
    {
     "name": "stdout",
     "output_type": "stream",
     "text": [
      "b'\\x80\\x03K*.'\n",
      "42\n"
     ]
    }
   ],
   "source": [
    "pickled = pickle.dumps(42)\n",
    "print(pickled)\n",
    "print(pickle.loads(pickled))"
   ]
  },
  {
   "cell_type": "markdown",
   "metadata": {
    "collapsed": false
   },
   "source": [
    "# class Money:\n",
    "    def __init__(self, amount, currency):\n",
    "        self.amount = amount\n",
    "        self.currency = currency\n",
    "        self.conversion = {'USD':1, 'CAD':.95}\n",
    "    def __str__(self):\n",
    "        return '%.2f %s' % (self.amount, self.currency)\n",
    "    def __repr__(self):\n",
    "        return 'Money(%r, %r)' % (self.amount, self.currency)\n",
    "    def in_currency(self, currency):\n",
    "        ratio = self.conversion[currency] / self.conversion[self.currency]\n",
    "        return Money(self.amount * ratio, currency)\n",
    "us_dollar = Money(250, 'USD')\n",
    "print(us_dollar)\n",
    "print(us_dollar.in_currency('CAD'))\n",
    "pickled = pickle.dumps(us_dollar)\n",
    "print(pickled)\n",
    "print(pickle.loads(pickled))"
   ]
  },
  {
   "cell_type": "markdown",
   "metadata": {},
   "source": [
    "Required methods\n",
    "* **`__getstate__(self)`**\n",
    "* **`__setstate__(self, state)`**\n",
    "    * With initialization code for pickled data"
   ]
  },
  {
   "cell_type": "code",
   "execution_count": 1,
   "metadata": {
    "collapsed": false
   },
   "outputs": [
    {
     "name": "stdout",
     "output_type": "stream",
     "text": [
      "250.00 USD\n",
      "237.50 CAD\n"
     ]
    },
    {
     "ename": "NameError",
     "evalue": "name 'pickle' is not defined",
     "output_type": "error",
     "traceback": [
      "\u001b[0;31m---------------------------------------------------------------------------\u001b[0m",
      "\u001b[0;31mNameError\u001b[0m                                 Traceback (most recent call last)",
      "\u001b[0;32m<ipython-input-1-3b700156b4aa>\u001b[0m in \u001b[0;36m<module>\u001b[0;34m()\u001b[0m\n\u001b[1;32m     23\u001b[0m \u001b[0mprint\u001b[0m\u001b[0;34m(\u001b[0m\u001b[0mus_dollar\u001b[0m\u001b[0;34m)\u001b[0m\u001b[0;34m\u001b[0m\u001b[0m\n\u001b[1;32m     24\u001b[0m \u001b[0mprint\u001b[0m\u001b[0;34m(\u001b[0m\u001b[0mus_dollar\u001b[0m\u001b[0;34m.\u001b[0m\u001b[0min_currency\u001b[0m\u001b[0;34m(\u001b[0m\u001b[0;34m'CAD'\u001b[0m\u001b[0;34m)\u001b[0m\u001b[0;34m)\u001b[0m\u001b[0;34m\u001b[0m\u001b[0m\n\u001b[0;32m---> 25\u001b[0;31m \u001b[0mpickled2\u001b[0m \u001b[0;34m=\u001b[0m \u001b[0mpickle\u001b[0m\u001b[0;34m.\u001b[0m\u001b[0mdumps\u001b[0m\u001b[0;34m(\u001b[0m\u001b[0mus_dollar\u001b[0m\u001b[0;34m)\u001b[0m\u001b[0;34m\u001b[0m\u001b[0m\n\u001b[0m\u001b[1;32m     26\u001b[0m \u001b[0mprint\u001b[0m\u001b[0;34m(\u001b[0m\u001b[0mpickled2\u001b[0m\u001b[0;34m)\u001b[0m\u001b[0;34m\u001b[0m\u001b[0m\n\u001b[1;32m     27\u001b[0m \u001b[0mus_dollar_loads\u001b[0m \u001b[0;34m=\u001b[0m \u001b[0mpickle\u001b[0m\u001b[0;34m.\u001b[0m\u001b[0mloads\u001b[0m\u001b[0;34m(\u001b[0m\u001b[0mpickled2\u001b[0m\u001b[0;34m)\u001b[0m\u001b[0;34m\u001b[0m\u001b[0m\n",
      "\u001b[0;31mNameError\u001b[0m: name 'pickle' is not defined"
     ]
    }
   ],
   "source": [
    "class Money:\n",
    "    def __init__(self, amount, currency):\n",
    "        self.amount = amount\n",
    "        self.currency = currency\n",
    "        #self.conversion = {'USD':1, 'CAD':.95}\n",
    "        self.conversion = self.get_conversions()\n",
    "    def __str__(self):\n",
    "        return '%.2f %s' % (self.amount, self.currency)\n",
    "    def __repr__(self):\n",
    "        return 'Money(%r, %r)' % (self.amount, self.currency)\n",
    "    def __getstate__(self):\n",
    "        return self.amount, self.currency\n",
    "    def __setstate__(self, state):\n",
    "        self.amount = state[0]\n",
    "        self.currency = state[1]\n",
    "        self.conversion = self.get_conversions()\n",
    "    def get_conversions(self):\n",
    "        return {'USD':1, 'CAD':.95}\n",
    "    def in_currency(self, currency):\n",
    "        ratio = self.conversion[currency] / self.conversion[self.currency]\n",
    "        return Money(self.amount * ratio, currency)\n",
    "us_dollar = Money(250, 'USD')\n",
    "print(us_dollar)\n",
    "print(us_dollar.in_currency('CAD'))\n",
    "pickled2 = pickle.dumps(us_dollar)\n",
    "print(pickled2)\n",
    "us_dollar_loads = pickle.loads(pickled2)\n",
    "print(us_dollar_loads)\n",
    "print(us_dollar_loads.in_currency('CAD'))"
   ]
  },
  {
   "cell_type": "markdown",
   "metadata": {},
   "source": [
    "# Copying"
   ]
  },
  {
   "cell_type": "markdown",
   "metadata": {},
   "source": [
    "**Description**\n",
    "\n",
    "* Changes made to an object are visible from every reference to that object\n",
    "* Make changes to an object without those chagnes showing up elsewhere\n",
    ": Need **Copying**"
   ]
  },
  {
   "cell_type": "code",
   "execution_count": 16,
   "metadata": {
    "collapsed": false
   },
   "outputs": [
    {
     "name": "stdout",
     "output_type": "stream",
     "text": [
      "{'val': 'val'}\n",
      "456\n",
      "{'val': 456}\n"
     ]
    }
   ],
   "source": [
    "class B:\n",
    "    def __init__(self, val):\n",
    "        self.val = val\n",
    "        \n",
    "def checkf(param1):\n",
    "    param1.val = 456\n",
    "    print(param1.val)\n",
    "    \n",
    "a = B(\"val\")\n",
    "print(a.__dict__)\n",
    "checkf(a)\n",
    "print(a.__dict__)"
   ]
  },
  {
   "cell_type": "markdown",
   "metadata": {},
   "source": [
    "**Slice: Copying the list**"
   ]
  },
  {
   "cell_type": "code",
   "execution_count": 14,
   "metadata": {
    "collapsed": false
   },
   "outputs": [
    {
     "data": {
      "text/plain": [
       "4417888712"
      ]
     },
     "execution_count": 14,
     "metadata": {},
     "output_type": "execute_result"
    }
   ],
   "source": [
    "a = [1,2,3]\n",
    "b = a[:]\n",
    "id(a)"
   ]
  },
  {
   "cell_type": "code",
   "execution_count": 17,
   "metadata": {
    "collapsed": false
   },
   "outputs": [
    {
     "data": {
      "text/plain": [
       "4417808200"
      ]
     },
     "execution_count": 17,
     "metadata": {},
     "output_type": "execute_result"
    }
   ],
   "source": [
    "id(b)"
   ]
  },
  {
   "cell_type": "markdown",
   "metadata": {},
   "source": [
    "Dictionary: Use **`copy()`**"
   ]
  },
  {
   "cell_type": "code",
   "execution_count": 20,
   "metadata": {
    "collapsed": false
   },
   "outputs": [
    {
     "data": {
      "text/plain": [
       "4417911880"
      ]
     },
     "execution_count": 20,
     "metadata": {},
     "output_type": "execute_result"
    }
   ],
   "source": [
    "a = {1:2, 3:4}\n",
    "b = a.copy()\n",
    "id(a)"
   ]
  },
  {
   "cell_type": "code",
   "execution_count": 22,
   "metadata": {
    "collapsed": false
   },
   "outputs": [
    {
     "data": {
      "text/plain": [
       "4417890184"
      ]
     },
     "execution_count": 22,
     "metadata": {},
     "output_type": "execute_result"
    }
   ],
   "source": [
    "id(b)"
   ]
  },
  {
   "cell_type": "markdown",
   "metadata": {},
   "source": [
    "## Shallow Copies"
   ]
  },
  {
   "cell_type": "markdown",
   "metadata": {},
   "source": [
    "**`copy.copy()`**\n",
    "* Create a new object with the same **type**, but with a new **identity** and a new - but identical - **value**\n",
    "* Allow to pass in any object and get a shallow copy of it\n",
    "* Can copy a wider variety of objects\n",
    "* Can copy without needing to know anything about the objects themselves"
   ]
  },
  {
   "cell_type": "code",
   "execution_count": 23,
   "metadata": {
    "collapsed": true
   },
   "outputs": [],
   "source": [
    "import copy"
   ]
  },
  {
   "cell_type": "code",
   "execution_count": 24,
   "metadata": {
    "collapsed": true
   },
   "outputs": [],
   "source": [
    "class Example:\n",
    "    def __init__(self, value):\n",
    "        self.value = value"
   ]
  },
  {
   "cell_type": "code",
   "execution_count": 25,
   "metadata": {
    "collapsed": false
   },
   "outputs": [
    {
     "data": {
      "text/plain": [
       "'spam'"
      ]
     },
     "execution_count": 25,
     "metadata": {},
     "output_type": "execute_result"
    }
   ],
   "source": [
    "a = Example('spam')\n",
    "b = copy.copy(a)\n",
    "b.value = 'eggs'\n",
    "a.value"
   ]
  },
  {
   "cell_type": "code",
   "execution_count": 27,
   "metadata": {
    "collapsed": false
   },
   "outputs": [
    {
     "data": {
      "text/plain": [
       "'eggs'"
      ]
     },
     "execution_count": 27,
     "metadata": {},
     "output_type": "execute_result"
    }
   ],
   "source": [
    "b.value"
   ]
  },
  {
   "cell_type": "markdown",
   "metadata": {},
   "source": [
    "**References in the copied object**\n",
    "* The value for the copied object may have a new namespace\n",
    "* The namespaces all the same references\n",
    "    * Only references get copied, not the objects themselves"
   ]
  },
  {
   "cell_type": "code",
   "execution_count": 31,
   "metadata": {
    "collapsed": false
   },
   "outputs": [
    {
     "data": {
      "text/plain": [
       "{'a': [1, 2, 3, 4], 'b': [4, 5, 6, 7]}"
      ]
     },
     "execution_count": 31,
     "metadata": {},
     "output_type": "execute_result"
    }
   ],
   "source": [
    "a = {'a':[1,2,3], 'b':[4,5,6]}\n",
    "b = a.copy()\n",
    "a['a'].append(4)\n",
    "b['b'].append(7)\n",
    "a"
   ]
  },
  {
   "cell_type": "code",
   "execution_count": 33,
   "metadata": {
    "collapsed": false
   },
   "outputs": [
    {
     "data": {
      "text/plain": [
       "{'a': [1, 2, 3, 4], 'b': [4, 5, 6, 7]}"
      ]
     },
     "execution_count": 33,
     "metadata": {},
     "output_type": "execute_result"
    }
   ],
   "source": [
    "b"
   ]
  },
  {
   "cell_type": "markdown",
   "metadata": {},
   "source": [
    "**Example for shallow copy**: Keep an original list"
   ]
  },
  {
   "cell_type": "code",
   "execution_count": 35,
   "metadata": {
    "collapsed": false
   },
   "outputs": [
    {
     "data": {
      "text/plain": [
       "[3, 2, 1]"
      ]
     },
     "execution_count": 35,
     "metadata": {},
     "output_type": "execute_result"
    }
   ],
   "source": [
    "def sorted(original_list, key=None):\n",
    "    copied_list = copy.copy(original_list)\n",
    "    copied_list.sort(key=key)\n",
    "    return copied_list\n",
    "\n",
    "a = [3,2,1]\n",
    "b = sorted(a)\n",
    "a"
   ]
  },
  {
   "cell_type": "code",
   "execution_count": 37,
   "metadata": {
    "collapsed": false
   },
   "outputs": [
    {
     "data": {
      "text/plain": [
       "[1, 2, 3]"
      ]
     },
     "execution_count": 37,
     "metadata": {},
     "output_type": "execute_result"
    }
   ],
   "source": [
    "b"
   ]
  },
  {
   "cell_type": "markdown",
   "metadata": {},
   "source": [
    "## Deep copies"
   ]
  },
  {
   "cell_type": "markdown",
   "metadata": {},
   "source": [
    "**`copy.deepcopy()`** \n",
    "* Copy not only the original structure but also the objects that are referenced by it"
   ]
  },
  {
   "cell_type": "code",
   "execution_count": 39,
   "metadata": {
    "collapsed": false
   },
   "outputs": [
    {
     "name": "stdout",
     "output_type": "stream",
     "text": [
      "Shallow\n",
      "[[1, 2, 3, 4], [1, 2, 3]]\n",
      "Deep\n",
      "[[1, 2, 3], [1, 2, 3]]\n"
     ]
    }
   ],
   "source": [
    "import copy\n",
    "original = [[1,2,3], [1,2,3]]\n",
    "shallow_copy = copy.copy(original)\n",
    "deep_copy = copy.deepcopy(original)\n",
    "original[0].append(4)\n",
    "print(\"Shallow\")\n",
    "print(shallow_copy)\n",
    "print(\"Deep\")\n",
    "print(deep_copy)"
   ]
  },
  {
   "cell_type": "code",
   "execution_count": 41,
   "metadata": {
    "collapsed": false
   },
   "outputs": [
    {
     "data": {
      "text/plain": [
       "{'example': [1, 2, 3, {...}]}"
      ]
     },
     "execution_count": 41,
     "metadata": {},
     "output_type": "execute_result"
    }
   ],
   "source": [
    "import copy\n",
    "b = {'example': [1,2,3]}\n",
    "b['example'].append(b)\n",
    "c = copy.deepcopy(b)\n",
    "c"
   ]
  },
  {
   "cell_type": "code",
   "execution_count": 46,
   "metadata": {
    "collapsed": false
   },
   "outputs": [
    {
     "data": {
      "text/plain": [
       "[[1, 2, 3, 4], [1, 2, 3, 4]]"
      ]
     },
     "execution_count": 46,
     "metadata": {},
     "output_type": "execute_result"
    }
   ],
   "source": [
    "b"
   ]
  },
  {
   "cell_type": "markdown",
   "metadata": {},
   "source": [
    "**The same object found in the structure**\n",
    "* Only Copied once and referenced as many times as necessary"
   ]
  },
  {
   "cell_type": "code",
   "execution_count": 47,
   "metadata": {
    "collapsed": false
   },
   "outputs": [
    {
     "name": "stdout",
     "output_type": "stream",
     "text": [
      "[[1, 2, 3], [1, 2, 3]]\n",
      "[[1, 2, 3, 4], [1, 2, 3, 4]]\n",
      "[[1, 2, 3, 4], [1, 2, 3, 4]]\n",
      "[[1, 2, 3, 4, 5], [1, 2, 3, 4, 5]]\n"
     ]
    }
   ],
   "source": [
    "a = [1, 2, 3]\n",
    "b = [a, a]\n",
    "print(b)\n",
    "b[0].append(4)\n",
    "print(b)\n",
    "c = copy.deepcopy(b)\n",
    "print(c)\n",
    "c[0].append(5)\n",
    "print(c)"
   ]
  },
  {
   "cell_type": "markdown",
   "metadata": {},
   "source": [
    "**`__deepcopy()__`**\n",
    "* Specify which values are pertinent to the copy\n",
    "* Accept a second argument: The dictionary used to manage the identity of objects during copies"
   ]
  }
 ],
 "metadata": {
  "kernelspec": {
   "display_name": "Python 3",
   "language": "python",
   "name": "python3"
  },
  "language_info": {
   "codemirror_mode": {
    "name": "ipython",
    "version": 3
   },
   "file_extension": ".py",
   "mimetype": "text/x-python",
   "name": "python",
   "nbconvert_exporter": "python",
   "pygments_lexer": "ipython3",
   "version": "3.5.0"
  }
 },
 "nbformat": 4,
 "nbformat_minor": 0
}
